{
 "cells": [
  {
   "cell_type": "code",
   "id": "initial_id",
   "metadata": {
    "collapsed": true,
    "ExecuteTime": {
     "end_time": "2025-10-19T20:24:09.528321Z",
     "start_time": "2025-10-19T20:24:09.525264Z"
    }
   },
   "source": [
    "import pandas as pd\n",
    "import utils"
   ],
   "outputs": [],
   "execution_count": 76
  },
  {
   "metadata": {
    "ExecuteTime": {
     "end_time": "2025-10-19T20:24:27.800104Z",
     "start_time": "2025-10-19T20:24:27.791058Z"
    }
   },
   "cell_type": "code",
   "source": [
    "df = utils.load_and_clean_data()\n",
    "\n",
    "tiburones_df = df[\"species\"]\n",
    "\n",
    "tiburones_df"
   ],
   "id": "66e841371b76cdf9",
   "outputs": [
    {
     "data": {
      "text/plain": [
       "0                  \n",
       "1        BULL_SHARK\n",
       "2       TIGER_SHARK\n",
       "3                  \n",
       "4        BULL_SHARK\n",
       "           ...     \n",
       "4996               \n",
       "4997               \n",
       "4998               \n",
       "4999    WHITE_SHARK\n",
       "5000               \n",
       "Name: species, Length: 5001, dtype: object"
      ]
     },
     "execution_count": 80,
     "metadata": {},
     "output_type": "execute_result"
    }
   ],
   "execution_count": 80
  },
  {
   "metadata": {},
   "cell_type": "code",
   "outputs": [],
   "execution_count": null,
   "source": "",
   "id": "b7ef40954d705f78"
  }
 ],
 "metadata": {
  "kernelspec": {
   "display_name": "Python 3",
   "language": "python",
   "name": "python3"
  },
  "language_info": {
   "codemirror_mode": {
    "name": "ipython",
    "version": 2
   },
   "file_extension": ".py",
   "mimetype": "text/x-python",
   "name": "python",
   "nbconvert_exporter": "python",
   "pygments_lexer": "ipython2",
   "version": "2.7.6"
  }
 },
 "nbformat": 4,
 "nbformat_minor": 5
}
