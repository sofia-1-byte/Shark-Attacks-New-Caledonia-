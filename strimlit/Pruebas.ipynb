{
 "cells": [
  {
   "cell_type": "code",
   "id": "initial_id",
   "metadata": {
    "collapsed": true,
    "ExecuteTime": {
     "end_time": "2025-10-23T17:31:24.175701Z",
     "start_time": "2025-10-23T17:31:21.676245Z"
    }
   },
   "source": [
    "import pandas as pd\n",
    "import utils"
   ],
   "outputs": [
    {
     "name": "stderr",
     "output_type": "stream",
     "text": [
      "2025-10-23 13:31:24.168 WARNING streamlit.runtime.caching.cache_data_api: No runtime found, using MemoryCacheStorageManager\n",
      "2025-10-23 13:31:24.171 WARNING streamlit.runtime.caching.cache_data_api: No runtime found, using MemoryCacheStorageManager\n",
      "2025-10-23 13:31:24.172 WARNING streamlit.runtime.caching.cache_data_api: No runtime found, using MemoryCacheStorageManager\n",
      "2025-10-23 13:31:24.172 WARNING streamlit.runtime.caching.cache_data_api: No runtime found, using MemoryCacheStorageManager\n",
      "2025-10-23 13:31:24.173 WARNING streamlit.runtime.caching.cache_data_api: No runtime found, using MemoryCacheStorageManager\n",
      "2025-10-23 13:31:24.174 WARNING streamlit.runtime.caching.cache_data_api: No runtime found, using MemoryCacheStorageManager\n"
     ]
    }
   ],
   "execution_count": 1
  },
  {
   "metadata": {
    "ExecuteTime": {
     "end_time": "2025-10-23T17:36:27.802091Z",
     "start_time": "2025-10-23T17:36:27.760996Z"
    }
   },
   "cell_type": "code",
   "source": [
    "df = utils.load_and_clean_data()\n",
    "\n",
    "tiburones_df = df[\"species\"]\n",
    "\n",
    "tiburones_df"
   ],
   "id": "66e841371b76cdf9",
   "outputs": [
    {
     "data": {
      "text/plain": [
       "0                  \n",
       "1        BULL_SHARK\n",
       "2       TIGER_SHARK\n",
       "3                  \n",
       "4        BULL_SHARK\n",
       "           ...     \n",
       "4996               \n",
       "4997               \n",
       "4998               \n",
       "4999    WHITE_SHARK\n",
       "5000               \n",
       "Name: species, Length: 5001, dtype: object"
      ]
     },
     "execution_count": 7,
     "metadata": {},
     "output_type": "execute_result"
    }
   ],
   "execution_count": 7
  },
  {
   "metadata": {
    "ExecuteTime": {
     "end_time": "2025-10-23T17:36:29.995219Z",
     "start_time": "2025-10-23T17:36:29.982278Z"
    }
   },
   "cell_type": "code",
   "source": [
    "\n",
    "\n",
    "frecuencias = utils.analizar_frecuencias(df, \"is_fatal_cat\", True)\n",
    "total = frecuencias.sum()\n",
    "\n",
    "total"
   ],
   "id": "b7ef40954d705f78",
   "outputs": [
    {
     "data": {
      "text/plain": [
       "Categoria                No FatalFatal\n",
       "Frecuencia Absoluta               5001\n",
       "Frecuencia Relativa                1.0\n",
       "Frecuencia Relativa %            100.0\n",
       "dtype: object"
      ]
     },
     "execution_count": 8,
     "metadata": {},
     "output_type": "execute_result"
    }
   ],
   "execution_count": 8
  }
 ],
 "metadata": {
  "kernelspec": {
   "display_name": "Python 3",
   "language": "python",
   "name": "python3"
  },
  "language_info": {
   "codemirror_mode": {
    "name": "ipython",
    "version": 2
   },
   "file_extension": ".py",
   "mimetype": "text/x-python",
   "name": "python",
   "nbconvert_exporter": "python",
   "pygments_lexer": "ipython2",
   "version": "2.7.6"
  }
 },
 "nbformat": 4,
 "nbformat_minor": 5
}
